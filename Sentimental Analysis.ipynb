{
 "cells": [
  {
   "cell_type": "markdown",
   "metadata": {},
   "source": [
    "# Topic of the Project"
   ]
  },
  {
   "cell_type": "markdown",
   "metadata": {},
   "source": [
    "Sentimental Analysis of Employee Review"
   ]
  },
  {
   "cell_type": "markdown",
   "metadata": {},
   "source": [
    "# Goal Of the Project"
   ]
  },
  {
   "cell_type": "markdown",
   "metadata": {},
   "source": [
    "The main reason for choosing this dataset was to get an insight on why employees from big companies like Google, Amazon, Microsoft are refraining from working there, is it their working culture or politics inside the company or the way they treat their employees. Through some detailed insights about the company from their recent or current employees, it can help the new joiner to decide whether is it the right place to start their career with."
   ]
  },
  {
   "cell_type": "markdown",
   "metadata": {},
   "source": [
    "# Target Audiences"
   ]
  },
  {
   "cell_type": "markdown",
   "metadata": {},
   "source": [
    "This dataset can be useful for both, The Organization and the User.\n",
    " \n",
    "From Organizational Point of View :-\n",
    "Predicting what are the chances that the current employee will either stay/leave the organisation.\n",
    "To improve the organisation’s working culture or work-life balance, such reviews and the results will help them to spot a place for improvement.\n",
    "Employee Feedback are important for the organisation.\n",
    " \n",
    "From User Point of View :-\n",
    "It can help the new joiner to decide whether is it the right place to start their career with.\n"
   ]
  },
  {
   "cell_type": "markdown",
   "metadata": {},
   "source": [
    "# Importing Libraries"
   ]
  },
  {
   "cell_type": "code",
   "execution_count": 1,
   "metadata": {},
   "outputs": [
    {
     "name": "stdout",
     "output_type": "stream",
     "text": [
      "[nltk_data] Downloading package stopwords to\n",
      "[nltk_data]     /Users/sanket/nltk_data...\n",
      "[nltk_data]   Package stopwords is already up-to-date!\n",
      "[nltk_data] Downloading package wordnet to /Users/sanket/nltk_data...\n",
      "[nltk_data]   Package wordnet is already up-to-date!\n"
     ]
    }
   ],
   "source": [
    "import pandas as pd\n",
    "import numpy as np  \n",
    "import re  \n",
    "import nltk  \n",
    "from sklearn.datasets import load_files  \n",
    "nltk.download('stopwords')  \n",
    "import pickle  \n",
    "import datetime\n",
    "from datetime import datetime\n",
    "from nltk.corpus import stopwords \n",
    "nltk.download('wordnet')\n",
    "from nltk.stem import WordNetLemmatizer\n",
    "import matplotlib.pyplot as plt\n",
    "import seaborn as sns\n",
    "import plotly \n",
    "import plotly.plotly as py\n",
    "import matplotlib.gridspec as gridspec\n",
    "from plotly.offline import init_notebook_mode, iplot\n",
    "import plotly.graph_objs as go\n",
    "plotly.tools.set_credentials_file(username='sanket.bhaud', api_key='TUPydu3LQOjGVAnHZzPw')\n",
    "from sklearn.ensemble import RandomForestClassifier\n",
    "from sklearn.linear_model import SGDClassifier\n",
    "from sklearn.svm import SVC\n",
    "from sklearn import metrics\n",
    "from sklearn.metrics import mean_absolute_error\n",
    "from sklearn.metrics import classification_report, confusion_matrix\n",
    "from sklearn.model_selection import train_test_split"
   ]
  },
  {
   "cell_type": "code",
   "execution_count": 2,
   "metadata": {},
   "outputs": [],
   "source": [
    "df = pd.read_csv(\"/Users/sanket/Documents/Projects/SML/employee_reviews.csv\")"
   ]
  },
  {
   "cell_type": "markdown",
   "metadata": {},
   "source": [
    "This dataset contains employee reviews separated into the following categories:\n",
    "\n",
    "1. Index: index\n",
    "2. Company: Company name\n",
    "3. Location : This includes the country's name in parenthesis [i.e \"Toronto,(Canada)\"].\n",
    "4. Job-Title: This string will also include whether the reviewer is a 'Current' or 'Former' Employee at the time of the review\n",
    "5. Summary: Short summary of employee review\n",
    "6. Pros: Pros\n",
    "7. Cons: Cons\n",
    "8. Overall Rating: 1-5\n",
    "9. Work/Life Balance Rating: 1-5\n",
    "10. Culture and Values Rating: 1-5\n",
    "11. Career Opportunities Rating: 1-5\n",
    "12. Comp & Benefits Rating: 1-5\n",
    "13. Senior Management Rating: 1-5\n",
    "14. Helpful Review Count: A count of how many people found the review to be helpful\n",
    "15. Link to Review : This will provide you with a direct link to the page that contains the review. However it is likely that this link will be outdated"
   ]
  },
  {
   "cell_type": "code",
   "execution_count": 3,
   "metadata": {},
   "outputs": [
    {
     "data": {
      "text/plain": [
       "(67525, 17)"
      ]
     },
     "execution_count": 3,
     "metadata": {},
     "output_type": "execute_result"
    }
   ],
   "source": [
    "df.shape"
   ]
  },
  {
   "cell_type": "code",
   "execution_count": 4,
   "metadata": {},
   "outputs": [
    {
     "name": "stdout",
     "output_type": "stream",
     "text": [
      "<class 'pandas.core.frame.DataFrame'>\n",
      "RangeIndex: 67525 entries, 0 to 67524\n",
      "Data columns (total 17 columns):\n",
      "Unnamed: 0                    67525 non-null int64\n",
      "company                       67525 non-null object\n",
      "location                      67525 non-null object\n",
      "dates                         67525 non-null object\n",
      "job-title                     67525 non-null object\n",
      "summary                       67405 non-null object\n",
      "pros                          67525 non-null object\n",
      "cons                          67525 non-null object\n",
      "advice-to-mgmt                67228 non-null object\n",
      "overall-ratings               67525 non-null int64\n",
      "work-balance-stars            67525 non-null object\n",
      "culture-values-stars          67525 non-null object\n",
      "carrer-opportunities-stars    67525 non-null object\n",
      "comp-benefit-stars            67525 non-null object\n",
      "senior-mangemnet-stars        67525 non-null object\n",
      "helpful-count                 67525 non-null int64\n",
      "link                          67525 non-null object\n",
      "dtypes: int64(3), object(14)\n",
      "memory usage: 8.8+ MB\n"
     ]
    }
   ],
   "source": [
    "df.info()"
   ]
  },
  {
   "cell_type": "code",
   "execution_count": 5,
   "metadata": {},
   "outputs": [],
   "source": [
    "#Droppig columns\n",
    "df.drop(columns=['location', 'link', 'helpful-count', 'Unnamed: 0'], inplace=True)"
   ]
  },
  {
   "cell_type": "code",
   "execution_count": 6,
   "metadata": {},
   "outputs": [
    {
     "data": {
      "text/html": [
       "<div>\n",
       "<style scoped>\n",
       "    .dataframe tbody tr th:only-of-type {\n",
       "        vertical-align: middle;\n",
       "    }\n",
       "\n",
       "    .dataframe tbody tr th {\n",
       "        vertical-align: top;\n",
       "    }\n",
       "\n",
       "    .dataframe thead th {\n",
       "        text-align: right;\n",
       "    }\n",
       "</style>\n",
       "<table border=\"1\" class=\"dataframe\">\n",
       "  <thead>\n",
       "    <tr style=\"text-align: right;\">\n",
       "      <th></th>\n",
       "      <th>company</th>\n",
       "      <th>dates</th>\n",
       "      <th>job-title</th>\n",
       "      <th>summary</th>\n",
       "      <th>pros</th>\n",
       "      <th>cons</th>\n",
       "      <th>advice-to-mgmt</th>\n",
       "      <th>overall-ratings</th>\n",
       "      <th>work-balance-stars</th>\n",
       "      <th>culture-values-stars</th>\n",
       "      <th>carrer-opportunities-stars</th>\n",
       "      <th>comp-benefit-stars</th>\n",
       "      <th>senior-mangemnet-stars</th>\n",
       "    </tr>\n",
       "  </thead>\n",
       "  <tbody>\n",
       "    <tr>\n",
       "      <th>0</th>\n",
       "      <td>google</td>\n",
       "      <td>Dec 11, 2018</td>\n",
       "      <td>Current Employee - Anonymous Employee</td>\n",
       "      <td>Best Company to work for</td>\n",
       "      <td>People are smart and friendly</td>\n",
       "      <td>Bureaucracy is slowing things down</td>\n",
       "      <td>none</td>\n",
       "      <td>5</td>\n",
       "      <td>4</td>\n",
       "      <td>5</td>\n",
       "      <td>5</td>\n",
       "      <td>4</td>\n",
       "      <td>5</td>\n",
       "    </tr>\n",
       "    <tr>\n",
       "      <th>1</th>\n",
       "      <td>google</td>\n",
       "      <td>Jun 21, 2013</td>\n",
       "      <td>Former Employee - Program Manager</td>\n",
       "      <td>Moving at the speed of light, burn out is inev...</td>\n",
       "      <td>1) Food, food, food. 15+ cafes on main campus ...</td>\n",
       "      <td>1) Work/life balance. What balance? All those ...</td>\n",
       "      <td>1) Don't dismiss emotional intelligence and ad...</td>\n",
       "      <td>4</td>\n",
       "      <td>2</td>\n",
       "      <td>3</td>\n",
       "      <td>3</td>\n",
       "      <td>5</td>\n",
       "      <td>3</td>\n",
       "    </tr>\n",
       "    <tr>\n",
       "      <th>2</th>\n",
       "      <td>google</td>\n",
       "      <td>May 10, 2014</td>\n",
       "      <td>Current Employee - Software Engineer III</td>\n",
       "      <td>Great balance between big-company security and...</td>\n",
       "      <td>* If you're a software engineer, you're among ...</td>\n",
       "      <td>* It *is* becoming larger, and with it comes g...</td>\n",
       "      <td>Keep the focus on the user. Everything else wi...</td>\n",
       "      <td>5</td>\n",
       "      <td>5</td>\n",
       "      <td>4</td>\n",
       "      <td>5</td>\n",
       "      <td>5</td>\n",
       "      <td>4</td>\n",
       "    </tr>\n",
       "    <tr>\n",
       "      <th>3</th>\n",
       "      <td>google</td>\n",
       "      <td>Feb 8, 2015</td>\n",
       "      <td>Current Employee - Anonymous Employee</td>\n",
       "      <td>The best place I've worked and also the most d...</td>\n",
       "      <td>You can't find a more well-regarded company th...</td>\n",
       "      <td>I live in SF so the commute can take between 1...</td>\n",
       "      <td>Keep on NOT micromanaging - that is a huge ben...</td>\n",
       "      <td>5</td>\n",
       "      <td>2</td>\n",
       "      <td>5</td>\n",
       "      <td>5</td>\n",
       "      <td>4</td>\n",
       "      <td>5</td>\n",
       "    </tr>\n",
       "    <tr>\n",
       "      <th>4</th>\n",
       "      <td>google</td>\n",
       "      <td>Jul 19, 2018</td>\n",
       "      <td>Former Employee - Software Engineer</td>\n",
       "      <td>Unique, one of a kind dream job</td>\n",
       "      <td>Google is a world of its own. At every other c...</td>\n",
       "      <td>If you don't work in MTV (HQ), you will be giv...</td>\n",
       "      <td>Promote managers into management for their man...</td>\n",
       "      <td>5</td>\n",
       "      <td>5</td>\n",
       "      <td>5</td>\n",
       "      <td>5</td>\n",
       "      <td>5</td>\n",
       "      <td>5</td>\n",
       "    </tr>\n",
       "  </tbody>\n",
       "</table>\n",
       "</div>"
      ],
      "text/plain": [
       "  company          dates                                 job-title  \\\n",
       "0  google   Dec 11, 2018     Current Employee - Anonymous Employee   \n",
       "1  google   Jun 21, 2013         Former Employee - Program Manager   \n",
       "2  google   May 10, 2014  Current Employee - Software Engineer III   \n",
       "3  google    Feb 8, 2015     Current Employee - Anonymous Employee   \n",
       "4  google   Jul 19, 2018       Former Employee - Software Engineer   \n",
       "\n",
       "                                             summary  \\\n",
       "0                           Best Company to work for   \n",
       "1  Moving at the speed of light, burn out is inev...   \n",
       "2  Great balance between big-company security and...   \n",
       "3  The best place I've worked and also the most d...   \n",
       "4                    Unique, one of a kind dream job   \n",
       "\n",
       "                                                pros  \\\n",
       "0                      People are smart and friendly   \n",
       "1  1) Food, food, food. 15+ cafes on main campus ...   \n",
       "2  * If you're a software engineer, you're among ...   \n",
       "3  You can't find a more well-regarded company th...   \n",
       "4  Google is a world of its own. At every other c...   \n",
       "\n",
       "                                                cons  \\\n",
       "0                 Bureaucracy is slowing things down   \n",
       "1  1) Work/life balance. What balance? All those ...   \n",
       "2  * It *is* becoming larger, and with it comes g...   \n",
       "3  I live in SF so the commute can take between 1...   \n",
       "4  If you don't work in MTV (HQ), you will be giv...   \n",
       "\n",
       "                                      advice-to-mgmt  overall-ratings  \\\n",
       "0                                               none                5   \n",
       "1  1) Don't dismiss emotional intelligence and ad...                4   \n",
       "2  Keep the focus on the user. Everything else wi...                5   \n",
       "3  Keep on NOT micromanaging - that is a huge ben...                5   \n",
       "4  Promote managers into management for their man...                5   \n",
       "\n",
       "  work-balance-stars culture-values-stars carrer-opportunities-stars  \\\n",
       "0                  4                    5                          5   \n",
       "1                  2                    3                          3   \n",
       "2                  5                    4                          5   \n",
       "3                  2                    5                          5   \n",
       "4                  5                    5                          5   \n",
       "\n",
       "  comp-benefit-stars senior-mangemnet-stars  \n",
       "0                  4                      5  \n",
       "1                  5                      3  \n",
       "2                  5                      4  \n",
       "3                  4                      5  \n",
       "4                  5                      5  "
      ]
     },
     "execution_count": 6,
     "metadata": {},
     "output_type": "execute_result"
    }
   ],
   "source": [
    "df.head()"
   ]
  },
  {
   "cell_type": "markdown",
   "metadata": {},
   "source": [
    "# Cleaning Process"
   ]
  },
  {
   "cell_type": "code",
   "execution_count": 7,
   "metadata": {},
   "outputs": [],
   "source": [
    "df['dates'] = df['dates'].apply(lambda x: datetime.strptime(x, ' %b %d, %Y'))"
   ]
  },
  {
   "cell_type": "code",
   "execution_count": 8,
   "metadata": {},
   "outputs": [],
   "source": [
    "new = df[\"job-title\"].str.split(\" - \", n = 1, expand = True)\n",
    "df[\"job_type\"] = new[0]\n",
    "df[\"job_title\"] = new[1]"
   ]
  },
  {
   "cell_type": "code",
   "execution_count": 9,
   "metadata": {},
   "outputs": [
    {
     "data": {
      "text/html": [
       "<div>\n",
       "<style scoped>\n",
       "    .dataframe tbody tr th:only-of-type {\n",
       "        vertical-align: middle;\n",
       "    }\n",
       "\n",
       "    .dataframe tbody tr th {\n",
       "        vertical-align: top;\n",
       "    }\n",
       "\n",
       "    .dataframe thead th {\n",
       "        text-align: right;\n",
       "    }\n",
       "</style>\n",
       "<table border=\"1\" class=\"dataframe\">\n",
       "  <thead>\n",
       "    <tr style=\"text-align: right;\">\n",
       "      <th></th>\n",
       "      <th>company</th>\n",
       "      <th>dates</th>\n",
       "      <th>job-title</th>\n",
       "      <th>summary</th>\n",
       "      <th>pros</th>\n",
       "      <th>cons</th>\n",
       "      <th>advice-to-mgmt</th>\n",
       "      <th>overall-ratings</th>\n",
       "      <th>work-balance-stars</th>\n",
       "      <th>culture-values-stars</th>\n",
       "      <th>carrer-opportunities-stars</th>\n",
       "      <th>comp-benefit-stars</th>\n",
       "      <th>senior-mangemnet-stars</th>\n",
       "      <th>job_type</th>\n",
       "      <th>job_title</th>\n",
       "    </tr>\n",
       "  </thead>\n",
       "  <tbody>\n",
       "    <tr>\n",
       "      <th>0</th>\n",
       "      <td>google</td>\n",
       "      <td>2018-12-11</td>\n",
       "      <td>Current Employee - Anonymous Employee</td>\n",
       "      <td>Best Company to work for</td>\n",
       "      <td>People are smart and friendly</td>\n",
       "      <td>Bureaucracy is slowing things down</td>\n",
       "      <td>none</td>\n",
       "      <td>5</td>\n",
       "      <td>4</td>\n",
       "      <td>5</td>\n",
       "      <td>5</td>\n",
       "      <td>4</td>\n",
       "      <td>5</td>\n",
       "      <td>Current Employee</td>\n",
       "      <td>Anonymous Employee</td>\n",
       "    </tr>\n",
       "    <tr>\n",
       "      <th>1</th>\n",
       "      <td>google</td>\n",
       "      <td>2013-06-21</td>\n",
       "      <td>Former Employee - Program Manager</td>\n",
       "      <td>Moving at the speed of light, burn out is inev...</td>\n",
       "      <td>1) Food, food, food. 15+ cafes on main campus ...</td>\n",
       "      <td>1) Work/life balance. What balance? All those ...</td>\n",
       "      <td>1) Don't dismiss emotional intelligence and ad...</td>\n",
       "      <td>4</td>\n",
       "      <td>2</td>\n",
       "      <td>3</td>\n",
       "      <td>3</td>\n",
       "      <td>5</td>\n",
       "      <td>3</td>\n",
       "      <td>Former Employee</td>\n",
       "      <td>Program Manager</td>\n",
       "    </tr>\n",
       "    <tr>\n",
       "      <th>2</th>\n",
       "      <td>google</td>\n",
       "      <td>2014-05-10</td>\n",
       "      <td>Current Employee - Software Engineer III</td>\n",
       "      <td>Great balance between big-company security and...</td>\n",
       "      <td>* If you're a software engineer, you're among ...</td>\n",
       "      <td>* It *is* becoming larger, and with it comes g...</td>\n",
       "      <td>Keep the focus on the user. Everything else wi...</td>\n",
       "      <td>5</td>\n",
       "      <td>5</td>\n",
       "      <td>4</td>\n",
       "      <td>5</td>\n",
       "      <td>5</td>\n",
       "      <td>4</td>\n",
       "      <td>Current Employee</td>\n",
       "      <td>Software Engineer III</td>\n",
       "    </tr>\n",
       "    <tr>\n",
       "      <th>3</th>\n",
       "      <td>google</td>\n",
       "      <td>2015-02-08</td>\n",
       "      <td>Current Employee - Anonymous Employee</td>\n",
       "      <td>The best place I've worked and also the most d...</td>\n",
       "      <td>You can't find a more well-regarded company th...</td>\n",
       "      <td>I live in SF so the commute can take between 1...</td>\n",
       "      <td>Keep on NOT micromanaging - that is a huge ben...</td>\n",
       "      <td>5</td>\n",
       "      <td>2</td>\n",
       "      <td>5</td>\n",
       "      <td>5</td>\n",
       "      <td>4</td>\n",
       "      <td>5</td>\n",
       "      <td>Current Employee</td>\n",
       "      <td>Anonymous Employee</td>\n",
       "    </tr>\n",
       "    <tr>\n",
       "      <th>4</th>\n",
       "      <td>google</td>\n",
       "      <td>2018-07-19</td>\n",
       "      <td>Former Employee - Software Engineer</td>\n",
       "      <td>Unique, one of a kind dream job</td>\n",
       "      <td>Google is a world of its own. At every other c...</td>\n",
       "      <td>If you don't work in MTV (HQ), you will be giv...</td>\n",
       "      <td>Promote managers into management for their man...</td>\n",
       "      <td>5</td>\n",
       "      <td>5</td>\n",
       "      <td>5</td>\n",
       "      <td>5</td>\n",
       "      <td>5</td>\n",
       "      <td>5</td>\n",
       "      <td>Former Employee</td>\n",
       "      <td>Software Engineer</td>\n",
       "    </tr>\n",
       "  </tbody>\n",
       "</table>\n",
       "</div>"
      ],
      "text/plain": [
       "  company      dates                                 job-title  \\\n",
       "0  google 2018-12-11     Current Employee - Anonymous Employee   \n",
       "1  google 2013-06-21         Former Employee - Program Manager   \n",
       "2  google 2014-05-10  Current Employee - Software Engineer III   \n",
       "3  google 2015-02-08     Current Employee - Anonymous Employee   \n",
       "4  google 2018-07-19       Former Employee - Software Engineer   \n",
       "\n",
       "                                             summary  \\\n",
       "0                           Best Company to work for   \n",
       "1  Moving at the speed of light, burn out is inev...   \n",
       "2  Great balance between big-company security and...   \n",
       "3  The best place I've worked and also the most d...   \n",
       "4                    Unique, one of a kind dream job   \n",
       "\n",
       "                                                pros  \\\n",
       "0                      People are smart and friendly   \n",
       "1  1) Food, food, food. 15+ cafes on main campus ...   \n",
       "2  * If you're a software engineer, you're among ...   \n",
       "3  You can't find a more well-regarded company th...   \n",
       "4  Google is a world of its own. At every other c...   \n",
       "\n",
       "                                                cons  \\\n",
       "0                 Bureaucracy is slowing things down   \n",
       "1  1) Work/life balance. What balance? All those ...   \n",
       "2  * It *is* becoming larger, and with it comes g...   \n",
       "3  I live in SF so the commute can take between 1...   \n",
       "4  If you don't work in MTV (HQ), you will be giv...   \n",
       "\n",
       "                                      advice-to-mgmt  overall-ratings  \\\n",
       "0                                               none                5   \n",
       "1  1) Don't dismiss emotional intelligence and ad...                4   \n",
       "2  Keep the focus on the user. Everything else wi...                5   \n",
       "3  Keep on NOT micromanaging - that is a huge ben...                5   \n",
       "4  Promote managers into management for their man...                5   \n",
       "\n",
       "  work-balance-stars culture-values-stars carrer-opportunities-stars  \\\n",
       "0                  4                    5                          5   \n",
       "1                  2                    3                          3   \n",
       "2                  5                    4                          5   \n",
       "3                  2                    5                          5   \n",
       "4                  5                    5                          5   \n",
       "\n",
       "  comp-benefit-stars senior-mangemnet-stars          job_type  \\\n",
       "0                  4                      5  Current Employee   \n",
       "1                  5                      3   Former Employee   \n",
       "2                  5                      4  Current Employee   \n",
       "3                  4                      5  Current Employee   \n",
       "4                  5                      5   Former Employee   \n",
       "\n",
       "               job_title  \n",
       "0     Anonymous Employee  \n",
       "1        Program Manager  \n",
       "2  Software Engineer III  \n",
       "3     Anonymous Employee  \n",
       "4      Software Engineer  "
      ]
     },
     "execution_count": 9,
     "metadata": {},
     "output_type": "execute_result"
    }
   ],
   "source": [
    "df.head()"
   ]
  },
  {
   "cell_type": "code",
   "execution_count": 10,
   "metadata": {},
   "outputs": [],
   "source": [
    "#Df Transformations\n",
    "df['work-balance-stars'] = np.where(df['work-balance-stars']=='none', 0, df['work-balance-stars'])\n",
    "df['culture-values-stars'] = np.where(df['culture-values-stars']=='none', 0, df['culture-values-stars'])\n",
    "df['carrer-opportunities-stars'] = np.where(df['carrer-opportunities-stars']=='none', 0, df['carrer-opportunities-stars'])\n",
    "df['comp-benefit-stars'] = np.where(df['comp-benefit-stars']=='none', 0, df['comp-benefit-stars'])\n",
    "df['senior-mangemnet-stars'] = np.where(df['senior-mangemnet-stars']=='none', 0, df['senior-mangemnet-stars'])\n",
    "df['work-balance-stars'] = pd.to_numeric(df['work-balance-stars'])\n",
    "df['culture-values-stars'] = pd.to_numeric(df['culture-values-stars'])\n",
    "df['carrer-opportunities-stars'] = pd.to_numeric(df['carrer-opportunities-stars'])\n",
    "df['comp-benefit-stars'] = pd.to_numeric(df['comp-benefit-stars'])\n",
    "df['senior-mangemnet-stars'] = pd.to_numeric(df['senior-mangemnet-stars'])"
   ]
  },
  {
   "cell_type": "markdown",
   "metadata": {},
   "source": [
    "# NLP Cleaning Process"
   ]
  },
  {
   "cell_type": "code",
   "execution_count": 11,
   "metadata": {},
   "outputs": [],
   "source": [
    "def clean_data(data,column_name):\n",
    "    documents = []\n",
    "    document1 = ''\n",
    "\n",
    "    stemmer = WordNetLemmatizer()\n",
    "\n",
    "    for sen in range(0, len(data)):  \n",
    "        # Remove all the special characters\n",
    "        document = re.sub(r'\\W', ' ', str(data[sen]))\n",
    "\n",
    "        # remove all single characters\n",
    "        document = re.sub(r'\\s+[a-zA-Z]\\s+', ' ', document)\n",
    "\n",
    "        # Remove single characters from the start\n",
    "        document = re.sub(r'\\^[a-zA-Z]\\s+', ' ', document) \n",
    "\n",
    "        # Substituting multiple spaces with single space\n",
    "        document = re.sub(r'\\s+', ' ', document, flags=re.I)\n",
    "\n",
    "        # Removing prefixed 'b'\n",
    "        document = re.sub(r'^b\\s+', '', document)\n",
    "    \n",
    "        document = re.sub(r'[0-9]+',\"\", document)\n",
    "\n",
    "        # Converting to Lowercase\n",
    "        document = document.lower()\n",
    "\n",
    "        # Lemmatization\n",
    "        document = document.split()\n",
    "\n",
    "        document = [stemmer.lemmatize(word) for word in document]\n",
    "        document = ' '.join(document)\n",
    "    \n",
    "        documents.append(document)\n",
    "        df.at[sen,column_name] = document\n",
    "    \n"
   ]
  },
  {
   "cell_type": "code",
   "execution_count": 12,
   "metadata": {},
   "outputs": [],
   "source": [
    "clean_data(df['pros'],'pros')"
   ]
  },
  {
   "cell_type": "code",
   "execution_count": 13,
   "metadata": {},
   "outputs": [],
   "source": [
    "clean_data(df['cons'],'cons')"
   ]
  },
  {
   "cell_type": "code",
   "execution_count": 14,
   "metadata": {},
   "outputs": [],
   "source": [
    "clean_data(df['summary'],'summary')"
   ]
  },
  {
   "cell_type": "code",
   "execution_count": 15,
   "metadata": {},
   "outputs": [],
   "source": [
    "clean_data(df['advice-to-mgmt'],'advice-to-mgmt')"
   ]
  },
  {
   "cell_type": "markdown",
   "metadata": {},
   "source": [
    "# Visualization 1"
   ]
  },
  {
   "cell_type": "code",
   "execution_count": 16,
   "metadata": {},
   "outputs": [
    {
     "data": {
      "text/html": [
       "<iframe id=\"igraph\" scrolling=\"no\" style=\"border:none;\" seamless=\"seamless\" src=\"https://plot.ly/~sanket.bhaud/204.embed\" height=\"525px\" width=\"100%\"></iframe>"
      ],
      "text/plain": [
       "<plotly.tools.PlotlyDisplay object>"
      ]
     },
     "execution_count": 16,
     "metadata": {},
     "output_type": "execute_result"
    }
   ],
   "source": [
    "#Plotting the number of reviews present for each company\n",
    "counts = df['company'].value_counts()\n",
    "counts = pd.DataFrame(counts)\n",
    "trace1 = go.Bar(\n",
    "                x = counts.index,\n",
    "                y = counts.company,\n",
    "                name = \"Number of reviews for each company\",\n",
    "                marker = dict(color='rgb(26, 118, 255)',\n",
    "                             line=dict(color='black',width=1.5)),\n",
    "                text = counts.company)\n",
    "data = [trace1]\n",
    "layout = go.Layout(barmode = \"group\",title='Number of reviews of each company')\n",
    "fig = go.Figure(data = data, layout = layout)\n",
    "py.iplot(fig)"
   ]
  },
  {
   "cell_type": "markdown",
   "metadata": {},
   "source": [
    "# Visualization 2"
   ]
  },
  {
   "cell_type": "code",
   "execution_count": 17,
   "metadata": {},
   "outputs": [
    {
     "data": {
      "text/html": [
       "<iframe id=\"igraph\" scrolling=\"no\" style=\"border:none;\" seamless=\"seamless\" src=\"https://plot.ly/~sanket.bhaud/206.embed\" height=\"525px\" width=\"100%\"></iframe>"
      ],
      "text/plain": [
       "<plotly.tools.PlotlyDisplay object>"
      ]
     },
     "execution_count": 17,
     "metadata": {},
     "output_type": "execute_result"
    }
   ],
   "source": [
    "def find_employee_type(s):\n",
    "    x = re.search(r'([^-]*)-',s).group(1)\n",
    "    return str(x)\n",
    "    \n",
    "df['employee-type'] = df['job-title'].apply(find_employee_type)\n",
    "cmp_lc= df[[\"company\",\"employee-type\"]] \n",
    "cmp_lc = cmp_lc.groupby([\"company\", \"employee-type\"]).size().reset_index()\n",
    "cmp_lc = cmp_lc.rename(columns={0: 'total_reviews_by_title'})\n",
    "\n",
    "years = list(cmp_lc.company.unique())\n",
    "company_data = []\n",
    "v = True\n",
    "\n",
    "for i in years:\n",
    "    if i!='amazon':\n",
    "        v=False\n",
    "    data_upd = [dict(type='bar',\n",
    "                     visible = v,\n",
    "                     x = cmp_lc[cmp_lc['company']==i]['employee-type'],\n",
    "                     y = cmp_lc[cmp_lc['company']==i]['total_reviews_by_title'],\n",
    "                     textposition = 'auto',\n",
    "                     marker=dict(\n",
    "                     color='rgb(158,202,225)',\n",
    "                     line=dict(\n",
    "                         color='rgb(8,48,107)',\n",
    "                         width=1.5),\n",
    "                     ),\n",
    "                 opacity=0.6)]\n",
    "    \n",
    "    company_data.extend(data_upd)\n",
    "\n",
    "years = [x.capitalize() for x in years]\n",
    "\n",
    "# set menus inside the plot\n",
    "steps = []\n",
    "yr = 0\n",
    "for i in range(0,len(company_data)):\n",
    "    step = dict(method = \"restyle\",\n",
    "                args = [\"visible\", [False]*len(company_data)],\n",
    "                label = years[yr]) \n",
    "    step['args'][1][i] = True\n",
    "    steps.append(step)\n",
    "    yr += 1\n",
    "    \n",
    "\n",
    "sliders = [dict(active = 6,\n",
    "                currentvalue = {\"prefix\": \"Company: \"},\n",
    "                pad = {\"t\": 50},\n",
    "                steps = steps)]\n",
    "\n",
    "# Set the layout\n",
    "layout = dict(title = 'Do current employees review the comapnies more than the ex-employees?',\n",
    "              sliders = sliders)\n",
    "\n",
    "fig = dict(data=company_data, layout=layout)\n",
    "py.iplot(fig)"
   ]
  },
  {
   "cell_type": "markdown",
   "metadata": {},
   "source": [
    "# Visualization 3"
   ]
  },
  {
   "cell_type": "code",
   "execution_count": 18,
   "metadata": {},
   "outputs": [],
   "source": [
    "df['year'] = pd.DatetimeIndex(df.dates).year  "
   ]
  },
  {
   "cell_type": "code",
   "execution_count": 20,
   "metadata": {},
   "outputs": [
    {
     "data": {
      "text/html": [
       "<iframe id=\"igraph\" scrolling=\"no\" style=\"border:none;\" seamless=\"seamless\" src=\"https://plot.ly/~sanket.bhaud/210.embed\" height=\"525px\" width=\"100%\"></iframe>"
      ],
      "text/plain": [
       "<plotly.tools.PlotlyDisplay object>"
      ]
     },
     "execution_count": 20,
     "metadata": {},
     "output_type": "execute_result"
    }
   ],
   "source": [
    "cmp_lc = df[[\"company\",\"dates\"]]\n",
    "cmp_lc = cmp_lc.reset_index(drop=True)\n",
    "cmp_lc.sort_values(by='dates')\n",
    "cmp_lc = cmp_lc.groupby([\"company\", \"dates\"]).size().reset_index()\n",
    "cmp_lc = cmp_lc.rename(columns={0: 'total_reviews'})\n",
    "\n",
    "amazon = go.Scatter(\n",
    "    x=cmp_lc[cmp_lc['company']=='amazon']['dates'],\n",
    "    y=cmp_lc[cmp_lc['company']=='amazon']['total_reviews'],\n",
    "    name = \"Amazon\",\n",
    "    line = dict(color = '#17BECF'),\n",
    "    opacity = 0.8)\n",
    "\n",
    "microsoft = go.Scatter(\n",
    "    x=cmp_lc[cmp_lc['company']=='microsoft']['dates'],\n",
    "    y=cmp_lc[cmp_lc['company']=='microsoft']['total_reviews'],\n",
    "    name = \"Microsoft\",\n",
    "    line = dict(color = '#7F7F7F'),\n",
    "    opacity = 0.8)\n",
    "\n",
    "apple = go.Scatter(\n",
    "    x=cmp_lc[cmp_lc['company']=='apple']['dates'],\n",
    "    y=cmp_lc[cmp_lc['company']=='apple']['total_reviews'],\n",
    "    name = \"Apple\",\n",
    "    line = dict(color = '#0fac1f'),\n",
    "    opacity = 0.8)\n",
    "\n",
    "google = go.Scatter(\n",
    "    x=cmp_lc[cmp_lc['company']=='google']['dates'],\n",
    "    y=cmp_lc[cmp_lc['company']=='google']['total_reviews'],\n",
    "    name = \"Google\",\n",
    "    line = dict(color = '#6335c3'),\n",
    "    opacity = 0.8)\n",
    "\n",
    "facebook = go.Scatter(\n",
    "    x=cmp_lc[cmp_lc['company']=='facebook']['dates'],\n",
    "    y=cmp_lc[cmp_lc['company']=='facebook']['total_reviews'],\n",
    "    name = \"Facebook\",\n",
    "    line = dict(color = '#808000'),\n",
    "    opacity = 0.8)\n",
    "\n",
    "\n",
    "data = [amazon,microsoft,apple,google,facebook]\n",
    "\n",
    "layout = dict(\n",
    "    title='Analysing any trend between number of reviews and dates',\n",
    "    xaxis=dict(\n",
    "        rangeselector=dict(\n",
    "            buttons=list([\n",
    "                dict(count=1,\n",
    "                     label='1m',\n",
    "                     step='month',\n",
    "                     stepmode='backward'),\n",
    "                dict(count=6,\n",
    "                     label='6m',\n",
    "                     step='month',\n",
    "                     stepmode='backward'),\n",
    "                dict(step='all')\n",
    "            ])\n",
    "        ),\n",
    "        rangeslider=dict(\n",
    "            visible = True\n",
    "        ),\n",
    "        type='date'\n",
    "    )\n",
    ")\n",
    "\n",
    "fig = dict(data=data, layout=layout)\n",
    "py.iplot(fig)"
   ]
  },
  {
   "cell_type": "markdown",
   "metadata": {},
   "source": [
    "# Visualization 4\n"
   ]
  },
  {
   "cell_type": "code",
   "execution_count": 21,
   "metadata": {},
   "outputs": [
    {
     "data": {
      "text/html": [
       "<iframe id=\"igraph\" scrolling=\"no\" style=\"border:none;\" seamless=\"seamless\" src=\"https://plot.ly/~sanket.bhaud/212.embed\" height=\"525px\" width=\"100%\"></iframe>"
      ],
      "text/plain": [
       "<plotly.tools.PlotlyDisplay object>"
      ]
     },
     "execution_count": 21,
     "metadata": {},
     "output_type": "execute_result"
    }
   ],
   "source": [
    "from textblob import TextBlob\n",
    "df[['summary']] = df[['summary']].astype(str)\n",
    "df['polarity'] = df.apply(lambda x: TextBlob(x['summary']).sentiment.polarity, axis=1)\n",
    "\n",
    " \n",
    "def sentiment(df):\n",
    "    if df['polarity'] > 0:\n",
    "        val = \"Positive\"\n",
    "    elif df['polarity'] == 0:\n",
    "        val = \"Neutral\"\n",
    "    else:\n",
    "        val = \"Negative\"\n",
    "    return val\n",
    "\n",
    "df['sentiment_type'] = df.apply(sentiment, axis=1)\n",
    "\n",
    "cmp_lc = df[[\"company\",\"sentiment_type\"]] \n",
    "cmp_lc = cmp_lc.groupby([\"company\", \"sentiment_type\"]).size().reset_index()\n",
    "cmp_lc = cmp_lc.rename(columns={0: 'total_sentiment_types'})\n",
    "\n",
    "#For plotting it\n",
    "years = list(cmp_lc.company.unique())\n",
    "company_data = []\n",
    "v = True\n",
    "\n",
    "for i in years:\n",
    "    if i!='amazon':\n",
    "        v=False\n",
    "    data_upd = [dict(type='bar',\n",
    "                     visible = v,\n",
    "                     x = cmp_lc[cmp_lc['company']==i]['sentiment_type'],\n",
    "                     y = cmp_lc[cmp_lc['company']==i]['total_sentiment_types'],\n",
    "                     textposition = 'auto',\n",
    "                     marker=dict(\n",
    "                     color='orange',\n",
    "                     line=dict(\n",
    "                         width=1.5),\n",
    "                     ),\n",
    "                 opacity=0.6)]\n",
    "    \n",
    "    company_data.extend(data_upd)\n",
    "\n",
    "years = [x.capitalize() for x in years]\n",
    "\n",
    "# set menus inside the plot\n",
    "steps = []\n",
    "yr = 0\n",
    "for i in range(0,len(company_data)):\n",
    "    step = dict(method = \"restyle\",\n",
    "                args = [\"visible\", [False]*len(company_data)],\n",
    "                label = years[yr]) \n",
    "    step['args'][1][i] = True\n",
    "    steps.append(step)\n",
    "    yr += 1\n",
    "    \n",
    "\n",
    "sliders = [dict(active = 6,\n",
    "                currentvalue = {\"prefix\": \"Company: \"},\n",
    "                pad = {\"t\": 50},\n",
    "                steps = steps)]\n",
    "\n",
    "# Set the layout\n",
    "layout = dict(title = 'Sentiment analysis for summary text data for each company',\n",
    "              sliders = sliders)\n",
    "fig = dict(data=company_data, layout=layout)\n",
    "py.iplot(fig)"
   ]
  },
  {
   "cell_type": "code",
   "execution_count": null,
   "metadata": {},
   "outputs": [],
   "source": []
  }
 ],
 "metadata": {
  "kernelspec": {
   "display_name": "Python 3",
   "language": "python",
   "name": "python3"
  },
  "language_info": {
   "codemirror_mode": {
    "name": "ipython",
    "version": 3
   },
   "file_extension": ".py",
   "mimetype": "text/x-python",
   "name": "python",
   "nbconvert_exporter": "python",
   "pygments_lexer": "ipython3",
   "version": "3.7.2"
  }
 },
 "nbformat": 4,
 "nbformat_minor": 2
}
